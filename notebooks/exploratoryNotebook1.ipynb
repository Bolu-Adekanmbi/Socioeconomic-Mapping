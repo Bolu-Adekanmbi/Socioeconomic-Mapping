{
  "cells": [
    {
      "cell_type": "code",
      "execution_count": null,
      "id": "ad3b1a1a",
      "metadata": {
        "id": "ad3b1a1a"
      },
      "outputs": [],
      "source": [
        "# This notebook is exploratory to see what is possible --> Solely for research when developing this project\n",
        "# This hange comes from the colab notebook to make sure that everything is syncing properly"
      ]
    },
    {
      "cell_type": "markdown",
      "source": [
        "## Testing a very barebones model that is one modality (raw figures)\n",
        "Will work on adding multimodality later\n",
        "I will also need to work on adding treatments for sparsity of separate data sources os that the model is robust enough to predict whether or not something is missing.\n",
        "\n",
        "Approach:\n",
        "\n",
        "1. Maybe creating multiple models based on combinations of each input medium and adding a conditional that chooses which model to use based on the inputs\n",
        "\n",
        "2. Maybe I should instead have something that converts all the metadata and everything from the other modalities into one singular format that is able to be generated regardless of the format. So maybe the other modalities are \"compressed\"\n"
      ],
      "metadata": {
        "id": "_X5mevyGLGgA"
      },
      "id": "_X5mevyGLGgA"
    },
    {
      "cell_type": "markdown",
      "source": [
        "### Some Great Data Sources to use\n",
        "1. [Data for: Downscaled gridded global dataset for Gross Domestic Product (GDP) per capita at purchasing power parity (PPP) over 1990-2022](https://zenodo.org/records/16741980)\n",
        "    - might be a great starting point with admin level 2 instead of going straight for a 10x10 basis considering that I might not find that data readily available yet\n",
        "        - However, one approach might be to still use admin level boundary 2, and then using other things with finer spatial detail for generation?\n",
        "        - It might also be good to have the option to choose which admin level boundary and at what resolution for \"faster\" models/calculations (especially depending on specific use-cases)"
      ],
      "metadata": {
        "id": "uMic-ZN2OQkp"
      },
      "id": "uMic-ZN2OQkp"
    },
    {
      "cell_type": "code",
      "source": [],
      "metadata": {
        "id": "KwiGOHEhMIXT"
      },
      "id": "KwiGOHEhMIXT",
      "execution_count": null,
      "outputs": []
    }
  ],
  "metadata": {
    "language_info": {
      "name": "python"
    },
    "colab": {
      "provenance": []
    }
  },
  "nbformat": 4,
  "nbformat_minor": 5
}