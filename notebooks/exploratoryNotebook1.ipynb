{
 "cells": [
  {
   "cell_type": "code",
   "execution_count": null,
   "id": "ad3b1a1a",
   "metadata": {},
   "outputs": [],
   "source": [
    "# This notebook is exploratory to see what is possible --> Solely for research when developing this project"
   ]
  }
 ],
 "metadata": {
  "language_info": {
   "name": "python"
  }
 },
 "nbformat": 4,
 "nbformat_minor": 5
}
