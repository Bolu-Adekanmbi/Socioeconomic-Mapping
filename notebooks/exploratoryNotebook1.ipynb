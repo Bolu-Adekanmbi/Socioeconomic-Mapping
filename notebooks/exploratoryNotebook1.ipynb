{
  "cells": [
    {
      "cell_type": "code",
      "execution_count": null,
      "id": "ad3b1a1a",
      "metadata": {
        "id": "ad3b1a1a"
      },
      "outputs": [],
      "source": [
        "# This notebook is exploratory to see what is possible --> Solely for research when developing this project\n",
        "\n",
        "# This change comes from the colab notebook to make sure that everything is syncing properly"
      ]
    }
  ],
  "metadata": {
    "language_info": {
      "name": "python"
    },
    "colab": {
      "provenance": []
    }
  },
  "nbformat": 4,
  "nbformat_minor": 5
}